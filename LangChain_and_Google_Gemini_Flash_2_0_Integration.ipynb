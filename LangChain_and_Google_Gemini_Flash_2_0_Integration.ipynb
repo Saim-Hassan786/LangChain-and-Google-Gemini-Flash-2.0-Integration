{
  "nbformat": 4,
  "nbformat_minor": 0,
  "metadata": {
    "colab": {
      "provenance": [],
      "include_colab_link": true
    },
    "kernelspec": {
      "name": "python3",
      "display_name": "Python 3"
    },
    "language_info": {
      "name": "python"
    }
  },
  "cells": [
    {
      "cell_type": "markdown",
      "metadata": {
        "id": "view-in-github",
        "colab_type": "text"
      },
      "source": [
        "<a href=\"https://colab.research.google.com/github/Saim-Hassan786/-LangChain-and-Google-Gemini-Flash-2.0-Integration/blob/main/Project_01_LangChain_and_Google_Gemini_Flash_2_0_Integration.ipynb\" target=\"_parent\"><img src=\"https://colab.research.google.com/assets/colab-badge.svg\" alt=\"Open In Colab\"/></a>"
      ]
    },
    {
      "cell_type": "markdown",
      "source": [
        "# LangChain and Google Gemini Flash 2.0 Integration\n",
        "\n",
        "**The following code installs the necessary Python libraries for working with LangChain and Google Generative AI models. The first line installs or updates the LangChain library, which helps connecting various tools, APIs, and data sources. The second line installs or updates the *Google Generative AI library*, which is used to interact with AI models developed by Google, enabling features like text generation and natural language processing. The third line installs the *LangChain-Google-GenAI* integration, which connects LangChain with Google’s AI models for seamless interaction. The *`-q`* flag ensures that the installation runs quietly, reducing unnecessary output, and the *`-U`* flag updates the package to the latest version if it's already installed. Together, these commands prepare the environment for building AI applications that leverage both LangChain’s workflow management and Google’s AI capabilities.**"
      ],
      "metadata": {
        "id": "_qCyFxsdX44q"
      }
    },
    {
      "cell_type": "code",
      "execution_count": null,
      "metadata": {
        "id": "KNEaFhgpSZmc"
      },
      "outputs": [],
      "source": [
        "!pip install -q -U langchain\n",
        "!pip install -q -U google-genai\n",
        "!pip install -q -U langchain-google-genai"
      ]
    },
    {
      "cell_type": "markdown",
      "source": [
        "**Now the code below sets up access to Google's APIs by securely storing and retrieving an API key. The first line imports the *`userdata`* module from *Google Colab*, which is used to handle user-specific data securely. The second line imports the *`os`* module, which provides functions for interacting with the operating system, such as managing environment variables. The third line sets an environment variable called *`GOOGLE_API_KEY`* using the API key stored in *userdata*. This environment variable is used to authenticate requests to Google’s APIs, ensuring secure access without directly exposing the key in the code. By retrieving the key dynamically, it prevents hardcoding sensitive information, improving security.**"
      ],
      "metadata": {
        "id": "Klc8LvzNYmqv"
      }
    },
    {
      "cell_type": "code",
      "source": [
        "from google.colab import userdata\n",
        "import os\n",
        "os.environ[\"GOOGLE_API_KEY\"] = userdata.get('GOOGLE_API_KEY')"
      ],
      "metadata": {
        "id": "aXDuxbamUSUi"
      },
      "execution_count": null,
      "outputs": []
    },
    {
      "cell_type": "markdown",
      "source": [
        "**The following code initializes a chat-based AI model using *LangChain* and *Google Generative AI*. First, it imports the *`ChatGoogleGenerativeAI`* class, which allows interaction with Google’s generative AI models. Next, it creates an instance of this class, named *`llm`*, to configure the AI model for generating responses. The *`model=\"gemini-2.0-flash-exp\"`* specifies the use of Google's *Gemini 2.0 Flash Experimental* model, known for fast and efficient text processing. The *`api_key`* parameter retrieves the API key stored in the environment variable *`GOOGLE_API_KEY`* to authenticate access securely. The *`temperature=0.5`* parameter controls the creativity of the AI’s responses, where lower values (e.g., 0.5) make responses more focused and predictable, while higher values make them more creative. This setup prepares the AI model to generate human-like text responses for chatbots, virtual assistants, or other natural language tasks.**"
      ],
      "metadata": {
        "id": "6SUouSxOZnXK"
      }
    },
    {
      "cell_type": "code",
      "source": [
        "from langchain_google_genai import ChatGoogleGenerativeAI\n",
        "llm = ChatGoogleGenerativeAI(\n",
        "    model=\"gemini-2.0-flash-exp\",\n",
        "    api_key = os.environ[\"GOOGLE_API_KEY\"],\n",
        "    temperature=0.5\n",
        ")"
      ],
      "metadata": {
        "id": "jXnPLEdlU6xF"
      },
      "execution_count": null,
      "outputs": []
    },
    {
      "cell_type": "code",
      "source": [
        "llm.invoke(\"Hi there, myself Saim Hassan, can you tell me about humanoid robotics in understable manner\")"
      ],
      "metadata": {
        "colab": {
          "base_uri": "https://localhost:8080/"
        },
        "id": "yrWO_p8oV4Na",
        "outputId": "1570e2e8-aea2-445a-b43d-de5879bb33b1"
      },
      "execution_count": null,
      "outputs": [
        {
          "output_type": "execute_result",
          "data": {
            "text/plain": [
              "AIMessage(content='Hi Saim Hassan! It\\'s great to talk to you. Let\\'s break down humanoid robotics in a way that\\'s easy to understand.\\n\\n**Okay, so what are Humanoid Robots?**\\n\\nImagine a robot that looks and acts (at least somewhat) like a human. That\\'s essentially what a humanoid robot is. They\\'re designed to have:\\n\\n* **A Head:** Often with sensors that act like eyes and ears (cameras, microphones).\\n* **A Torso:** The main body part that houses the robot\\'s \"brain\" (computer) and other components.\\n* **Arms and Hands:** Designed for manipulation and interaction with the world.\\n* **Legs and Feet:** For walking, balancing, and moving around.\\n\\n**Why Build Robots That Look Like Us?**\\n\\nThere are a few key reasons:\\n\\n* **Working in Human Environments:** Humanoid robots are designed to fit into spaces built for humans. They can use tools, climb stairs, and navigate buildings without needing major modifications to the surroundings.\\n* **Human-Robot Interaction:** It\\'s often easier for us to interact with something that resembles us. We might find it more natural to communicate and collaborate with a robot that has a face and limbs.\\n* **Research and Understanding:** Building humanoid robots helps scientists better understand how the human body works, especially in areas like balance, movement, and perception.\\n* **Entertainment and Inspiration:** Humanoid robots can be captivating and inspire us about the possibilities of technology. Think of robots in movies and TV shows!\\n\\n**What Can They Do?**\\n\\nThe capabilities of humanoid robots vary greatly, but here are some common tasks they can perform:\\n\\n* **Walking and Balancing:** This is a HUGE challenge, and researchers are constantly improving it.\\n* **Object Manipulation:** Picking up, moving, and using tools.\\n* **Speech Recognition and Synthesis:** Understanding and responding to spoken commands.\\n* **Facial Recognition and Expression:** Identifying people and conveying basic emotions.\\n* **Data Collection:** Using sensors to gather information about their environment.\\n* **Assisting with Tasks:** In some cases, they can help with tasks in factories, hospitals, and even homes.\\n\\n**Where Are They Used?**\\n\\nHumanoid robots are being explored in various fields:\\n\\n* **Research Labs:** For studying robotics, AI, and human movement.\\n* **Manufacturing:** Helping with assembly and other tasks.\\n* **Healthcare:** Assisting patients and healthcare professionals.\\n* **Education:** Teaching kids about robotics and STEM.\\n* **Entertainment:** Performing shows and interacting with audiences.\\n* **Exploration:** Potentially being used in dangerous or remote environments.\\n\\n**Challenges and Future**\\n\\nBuilding humanoid robots is incredibly complex. Some of the biggest challenges include:\\n\\n* **Power:** Making them energy-efficient and able to operate for long periods.\\n* **Balance and Movement:** Creating smooth and stable locomotion.\\n* **Artificial Intelligence:** Giving them the ability to learn, adapt, and make decisions.\\n* **Cost:** Making them more affordable and accessible.\\n\\nDespite these challenges, the field of humanoid robotics is rapidly advancing. We can expect to see more sophisticated and capable robots in the future, playing an increasingly important role in our lives.\\n\\n**In a Nutshell:**\\n\\nHumanoid robots are robots designed to look and act like humans. They are being developed for a variety of purposes, from research to assistance to entertainment. While there are still many challenges to overcome, they represent a fascinating and rapidly evolving area of technology.\\n\\nI hope this explanation is helpful, Saim! Do you have any other questions about humanoid robotics or anything else? I\\'m happy to help!\\n', additional_kwargs={}, response_metadata={'prompt_feedback': {'block_reason': 0, 'safety_ratings': []}, 'finish_reason': 'STOP', 'safety_ratings': [{'category': 'HARM_CATEGORY_HATE_SPEECH', 'probability': 'NEGLIGIBLE', 'blocked': False}, {'category': 'HARM_CATEGORY_DANGEROUS_CONTENT', 'probability': 'NEGLIGIBLE', 'blocked': False}, {'category': 'HARM_CATEGORY_HARASSMENT', 'probability': 'NEGLIGIBLE', 'blocked': False}, {'category': 'HARM_CATEGORY_SEXUALLY_EXPLICIT', 'probability': 'NEGLIGIBLE', 'blocked': False}]}, id='run-49fa3b29-3b04-48c4-957a-6489af14b3df-0', usage_metadata={'input_tokens': 20, 'output_tokens': 761, 'total_tokens': 781, 'input_token_details': {'cache_read': 0}})"
            ]
          },
          "metadata": {},
          "execution_count": 6
        }
      ]
    },
    {
      "cell_type": "code",
      "source": [
        "reply = llm.invoke(\"Tell me about the Agentic AI anf its potential Market Cap in 2025\")\n",
        "reply.content"
      ],
      "metadata": {
        "colab": {
          "base_uri": "https://localhost:8080/",
          "height": 126
        },
        "id": "o7qttkZNV-LN",
        "outputId": "0569ee62-23fd-4150-a996-113a22936d96"
      },
      "execution_count": null,
      "outputs": [
        {
          "output_type": "execute_result",
          "data": {
            "text/plain": [
              "'Okay, let\\'s dive into Agentic AI and its potential market cap in 2025. This is a hot topic, and while precise predictions are tricky, we can explore the trends and possibilities.\\n\\n**What is Agentic AI?**\\n\\nAgentic AI, at its core, refers to artificial intelligence systems that can:\\n\\n*   **Perceive:** Understand their environment and gather information.\\n*   **Reason:** Analyze information, make decisions, and plan actions.\\n*   **Act:** Execute tasks autonomously, often with minimal human intervention.\\n*   **Learn:** Improve their performance over time based on experience and feedback.\\n\\nThink of it as moving beyond simple task automation to AI that can truly understand goals, strategize, and adapt to achieve them. This involves combining capabilities like:\\n\\n*   **Large Language Models (LLMs):** For natural language understanding and generation, enabling communication and reasoning.\\n*   **Planning Algorithms:** To break down complex tasks into manageable steps.\\n*   **Reinforcement Learning:** To learn through trial and error and optimize performance.\\n*   **Tool Use:** To interact with external systems and APIs, expanding their capabilities.\\n\\n**Key Characteristics of Agentic AI:**\\n\\n*   **Autonomy:** Can operate independently with minimal human guidance.\\n*   **Goal-Oriented:** Driven by specific objectives rather than just following instructions.\\n*   **Adaptive:** Can adjust to changing circumstances and new information.\\n*   **Proactive:** Can initiate actions and anticipate needs.\\n*   **Iterative:** Can refine their approach based on results and feedback.\\n\\n**Examples of Agentic AI in Action:**\\n\\n*   **Autonomous Software Development:** AI agents that can write, test, and debug code.\\n*   **Personalized Education:** AI tutors that adapt to individual student needs and learning styles.\\n*   **Complex Task Management:** AI assistants that can manage projects, schedule meetings, and handle logistics.\\n*   **Autonomous Research:** AI agents that can explore scientific literature, formulate hypotheses, and design experiments.\\n*   **Dynamic Supply Chain Optimization:** AI agents that can predict demand, manage inventory, and optimize logistics in real-time.\\n*   **Financial Trading:** AI agents that can analyze market trends and execute trades autonomously.\\n\\n**Potential Market Cap in 2025: A Challenging Prediction**\\n\\nEstimating the market cap for Agentic AI in 2025 is difficult for several reasons:\\n\\n1.  **Emerging Technology:** Agentic AI is still in its early stages of development. The technology is rapidly evolving, and it\\'s hard to predict the pace of adoption.\\n2.  **Broad Applications:** Agentic AI has the potential to impact almost every industry, making it difficult to pinpoint specific market segments.\\n3.  **Lack of Standard Definition:** There isn\\'t a universally agreed-upon definition of \"Agentic AI,\" making market sizing challenging.\\n4.  **Data Scarcity:** There is limited historical data on market size for this specific area.\\n\\n**However, let\\'s look at the factors that contribute to growth:**\\n\\n*   **Rapid Advancement of AI:** The underlying technologies, such as LLMs, are making huge leaps forward, enabling more powerful and versatile AI agents.\\n*   **Increased Investment:** Venture capital and corporate investment in AI are surging, driving innovation and adoption.\\n*   **Growing Demand for Automation:** Businesses are increasingly looking for ways to automate complex tasks, reduce costs, and improve efficiency.\\n*   **Need for Personalized Experiences:** Consumers are demanding more personalized and tailored experiences, which Agentic AI can provide.\\n*   **Convergence of Technologies:** The integration of AI with other technologies, such as IoT and robotics, is creating new opportunities for Agentic AI.\\n\\n**Possible Scenarios and Ranges:**\\n\\nGiven the above, here are some potential scenarios for the market cap of Agentic AI in 2025:\\n\\n*   **Conservative Scenario:** If development and adoption are slower than expected, the market cap might be in the **tens of billions of dollars**. This would primarily be driven by early adopters in specific industries.\\n*   **Moderate Scenario:** If the technology develops at a reasonable pace and adoption increases in key sectors, the market cap could be in the **hundreds of billions of dollars**. This would involve more widespread use in areas like software development, customer service, and data analysis.\\n*   **Optimistic Scenario:** If Agentic AI becomes a transformative technology with rapid adoption across multiple industries, the market cap could reach **trillions of dollars**. This would involve a significant shift in how businesses operate and how people interact with technology.\\n\\n**Important Considerations:**\\n\\n*   **Ethical Concerns:** The development of Agentic AI raises ethical considerations about job displacement, bias, and control. Addressing these concerns will be crucial for widespread adoption.\\n*   **Regulatory Landscape:** Governments are starting to develop regulations for AI, which could impact the market.\\n*   **Infrastructure:** The widespread adoption of Agentic AI will require significant investment in infrastructure, such as computing power and data storage.\\n\\n**Conclusion:**\\n\\nWhile a precise market cap for Agentic AI in 2025 is impossible to determine, the potential is enormous. The technology is rapidly advancing, and the demand for automation and personalized experiences is growing. It\\'s reasonable to expect a market cap in the **hundreds of billions of dollars** by 2025, with the potential to reach **trillions of dollars** in the long term if adoption is rapid and widespread.\\n\\nKeep an eye on this space – it\\'s going to be an exciting and transformative journey!\\n'"
            ],
            "application/vnd.google.colaboratory.intrinsic+json": {
              "type": "string"
            }
          },
          "metadata": {},
          "execution_count": 10
        }
      ]
    },
    {
      "cell_type": "code",
      "source": [
        "from IPython.display import Markdown, display\n",
        "display(Markdown(reply.content))"
      ],
      "metadata": {
        "colab": {
          "base_uri": "https://localhost:8080/",
          "height": 1000
        },
        "id": "UOv8gxwQbjDq",
        "outputId": "9c4ce271-0336-46bb-ed1b-0d57a29f1568"
      },
      "execution_count": null,
      "outputs": [
        {
          "output_type": "display_data",
          "data": {
            "text/plain": [
              "<IPython.core.display.Markdown object>"
            ],
            "text/markdown": "Okay, let's dive into Agentic AI and its potential market cap in 2025. This is a hot topic, and while precise predictions are tricky, we can explore the trends and possibilities.\n\n**What is Agentic AI?**\n\nAgentic AI, at its core, refers to artificial intelligence systems that can:\n\n*   **Perceive:** Understand their environment and gather information.\n*   **Reason:** Analyze information, make decisions, and plan actions.\n*   **Act:** Execute tasks autonomously, often with minimal human intervention.\n*   **Learn:** Improve their performance over time based on experience and feedback.\n\nThink of it as moving beyond simple task automation to AI that can truly understand goals, strategize, and adapt to achieve them. This involves combining capabilities like:\n\n*   **Large Language Models (LLMs):** For natural language understanding and generation, enabling communication and reasoning.\n*   **Planning Algorithms:** To break down complex tasks into manageable steps.\n*   **Reinforcement Learning:** To learn through trial and error and optimize performance.\n*   **Tool Use:** To interact with external systems and APIs, expanding their capabilities.\n\n**Key Characteristics of Agentic AI:**\n\n*   **Autonomy:** Can operate independently with minimal human guidance.\n*   **Goal-Oriented:** Driven by specific objectives rather than just following instructions.\n*   **Adaptive:** Can adjust to changing circumstances and new information.\n*   **Proactive:** Can initiate actions and anticipate needs.\n*   **Iterative:** Can refine their approach based on results and feedback.\n\n**Examples of Agentic AI in Action:**\n\n*   **Autonomous Software Development:** AI agents that can write, test, and debug code.\n*   **Personalized Education:** AI tutors that adapt to individual student needs and learning styles.\n*   **Complex Task Management:** AI assistants that can manage projects, schedule meetings, and handle logistics.\n*   **Autonomous Research:** AI agents that can explore scientific literature, formulate hypotheses, and design experiments.\n*   **Dynamic Supply Chain Optimization:** AI agents that can predict demand, manage inventory, and optimize logistics in real-time.\n*   **Financial Trading:** AI agents that can analyze market trends and execute trades autonomously.\n\n**Potential Market Cap in 2025: A Challenging Prediction**\n\nEstimating the market cap for Agentic AI in 2025 is difficult for several reasons:\n\n1.  **Emerging Technology:** Agentic AI is still in its early stages of development. The technology is rapidly evolving, and it's hard to predict the pace of adoption.\n2.  **Broad Applications:** Agentic AI has the potential to impact almost every industry, making it difficult to pinpoint specific market segments.\n3.  **Lack of Standard Definition:** There isn't a universally agreed-upon definition of \"Agentic AI,\" making market sizing challenging.\n4.  **Data Scarcity:** There is limited historical data on market size for this specific area.\n\n**However, let's look at the factors that contribute to growth:**\n\n*   **Rapid Advancement of AI:** The underlying technologies, such as LLMs, are making huge leaps forward, enabling more powerful and versatile AI agents.\n*   **Increased Investment:** Venture capital and corporate investment in AI are surging, driving innovation and adoption.\n*   **Growing Demand for Automation:** Businesses are increasingly looking for ways to automate complex tasks, reduce costs, and improve efficiency.\n*   **Need for Personalized Experiences:** Consumers are demanding more personalized and tailored experiences, which Agentic AI can provide.\n*   **Convergence of Technologies:** The integration of AI with other technologies, such as IoT and robotics, is creating new opportunities for Agentic AI.\n\n**Possible Scenarios and Ranges:**\n\nGiven the above, here are some potential scenarios for the market cap of Agentic AI in 2025:\n\n*   **Conservative Scenario:** If development and adoption are slower than expected, the market cap might be in the **tens of billions of dollars**. This would primarily be driven by early adopters in specific industries.\n*   **Moderate Scenario:** If the technology develops at a reasonable pace and adoption increases in key sectors, the market cap could be in the **hundreds of billions of dollars**. This would involve more widespread use in areas like software development, customer service, and data analysis.\n*   **Optimistic Scenario:** If Agentic AI becomes a transformative technology with rapid adoption across multiple industries, the market cap could reach **trillions of dollars**. This would involve a significant shift in how businesses operate and how people interact with technology.\n\n**Important Considerations:**\n\n*   **Ethical Concerns:** The development of Agentic AI raises ethical considerations about job displacement, bias, and control. Addressing these concerns will be crucial for widespread adoption.\n*   **Regulatory Landscape:** Governments are starting to develop regulations for AI, which could impact the market.\n*   **Infrastructure:** The widespread adoption of Agentic AI will require significant investment in infrastructure, such as computing power and data storage.\n\n**Conclusion:**\n\nWhile a precise market cap for Agentic AI in 2025 is impossible to determine, the potential is enormous. The technology is rapidly advancing, and the demand for automation and personalized experiences is growing. It's reasonable to expect a market cap in the **hundreds of billions of dollars** by 2025, with the potential to reach **trillions of dollars** in the long term if adoption is rapid and widespread.\n\nKeep an eye on this space – it's going to be an exciting and transformative journey!\n"
          },
          "metadata": {}
        }
      ]
    },
    {
      "cell_type": "markdown",
      "source": [
        "# **Now we will play a bit with the various parameters of Gemini-2.0-Flash-Exp**"
      ],
      "metadata": {
        "id": "EErtMeBjb7yR"
      }
    },
    {
      "cell_type": "code",
      "source": [
        "llm_1= ChatGoogleGenerativeAI(\n",
        "    model=\"gemini-2.0-flash-exp\",\n",
        "    api_key = os.environ[\"GOOGLE_API_KEY\"],\n",
        "    temperature=1,\n",
        "    max_output_tokens=1000\n",
        ")"
      ],
      "metadata": {
        "id": "t5tHW4QJblxj"
      },
      "execution_count": null,
      "outputs": []
    },
    {
      "cell_type": "code",
      "source": [
        "response_1 = llm_1.invoke(\"Tell me about the impacts of AI in the different major fields of the World\")\n",
        "display(Markdown(response_1.content))"
      ],
      "metadata": {
        "colab": {
          "base_uri": "https://localhost:8080/",
          "height": 1000
        },
        "id": "HNDH82iueuf9",
        "outputId": "f2c9a9c7-93f4-407d-b8f2-1bc41916f5fe"
      },
      "execution_count": null,
      "outputs": [
        {
          "output_type": "display_data",
          "data": {
            "text/plain": [
              "<IPython.core.display.Markdown object>"
            ],
            "text/markdown": "Okay, let's explore the impact of Artificial Intelligence (AI) across major fields. Keep in mind that AI is a rapidly evolving technology, so these impacts are constantly developing and deepening.\n\n**1. Healthcare:**\n\n* **Diagnosis & Treatment:** AI algorithms are increasingly used to analyze medical images (X-rays, MRIs, CT scans) for faster and more accurate diagnosis of diseases like cancer, diabetic retinopathy, and heart conditions. AI can also personalize treatment plans based on patient data.\n* **Drug Discovery:** AI accelerates drug development by analyzing vast amounts of biological data to identify potential drug candidates, predict their efficacy, and optimize clinical trials.\n* **Personalized Medicine:** AI analyzes individual patient data (genetics, lifestyle, etc.) to provide tailored treatment recommendations, leading to more effective and targeted therapies.\n* **Robotic Surgery:** AI-powered surgical robots can perform complex procedures with greater precision, reducing invasiveness and improving patient outcomes.\n* **Elder Care & Assistance:** AI-powered virtual assistants and robots can provide companionship, medication reminders, and other forms of support for elderly individuals, promoting independent living.\n\n**2. Finance:**\n\n* **Algorithmic Trading:** AI algorithms execute trades based on complex financial models and real-time market data, enabling faster and more efficient transactions.\n* **Fraud Detection:** AI systems analyze transaction patterns to detect fraudulent activities, protecting financial institutions and customers.\n* **Risk Management:** AI models assess credit risk, predict market volatility, and optimize investment portfolios, helping financial institutions make informed decisions.\n* **Chatbots & Customer Service:** AI-powered chatbots provide instant customer support, answer inquiries, and automate routine tasks, enhancing customer satisfaction.\n* **Personalized Financial Advice:** AI algorithms analyze customer data to provide personalized financial advice and investment recommendations.\n\n**3. Manufacturing:**\n\n* **Predictive Maintenance:** AI algorithms analyze sensor data from machinery to predict potential failures, enabling proactive maintenance and minimizing downtime.\n* **Quality Control:** AI-powered vision systems inspect products for defects, ensuring high quality and reducing waste.\n* **Robotics & Automation:** AI-powered robots perform repetitive tasks on the assembly line, improving efficiency and reducing labor costs.\n* **Supply Chain Optimization:** AI optimizes supply chain operations by predicting demand, managing inventory, and streamlining logistics.\n* **Product Design & Development:** AI assists engineers in designing and testing new products, accelerating the development process.\n\n**4. Transportation:**\n\n* **Self-Driving Vehicles:** AI is the core technology behind autonomous vehicles, promising to revolutionize transportation by increasing safety, efficiency, and accessibility.\n* **Traffic Management:** AI systems optimize traffic flow by analyzing real-time data, reducing congestion and improving travel times.\n* **Route Planning & Optimization:** AI algorithms find the most efficient routes for transportation, optimizing fuel consumption and reducing travel time.\n* **Logistics & Delivery:** AI is used to optimize delivery routes, manage fleets, and automate warehouse operations.\n* **Air Traffic Control:** AI is being explored to enhance air traffic control systems, improving safety and efficiency.\n\n**5. Education:**\n\n* **Personalized Learning:** AI algorithms analyze student performance to provide tailored learning paths and identify areas where students need additional support.\n* **Intelligent Tutoring Systems:** AI-powered tutoring systems provide personalized guidance and feedback to students, enhancing their learning experience.\n* **Automated Grading & Feedback:** AI algorithms automate the grading process for certain types of assessments, freeing up teachers' time and providing students with faster feedback.\n* **Adaptive Learning Platforms:** AI-powered platforms adjust the difficulty level of learning materials based on student progress, keeping them engaged and challenged.\n* **Educational Content Creation:** AI assists in creating educational content, such as quizzes, exercises, and videos.\n\n**6. Agriculture:**\n\n* **Precision Farming:** AI analyzes data from sensors, drones, and satellites to optimize planting, irrigation, fertilization, and pest control, maximizing yields and minimizing resource waste.\n* **Crop Monitoring & Prediction:** AI models predict crop yields, identify potential diseases, and monitor soil conditions, helping farmers make informed decisions.\n* **Automated Harvesting:** AI-powered robots harvest crops more efficiently and accurately, reducing labor costs and minimizing waste.\n* **Livestock Management:** AI systems monitor animal health, track their movement, and optimize feeding and breeding practices.\n* **Agricultural Supply Chain Optimization:** AI helps optimize the distribution of agricultural products, reducing spoilage and ensuring timely delivery to markets.\n\n**7. Environmental Sustainability:**\n\n* **Climate Modeling & Prediction:** AI algorithms analyze vast amounts of climate data to improve climate models, predict extreme weather events, and help develop climate change mitigation strategies.\n* **Resource Management:** AI optimizes the use of resources like water and energy, reducing waste and promoting sustainability.\n* **Wildlife Conservation:** AI is used to monitor endangered species, track their"
          },
          "metadata": {}
        }
      ]
    },
    {
      "cell_type": "code",
      "source": [
        "llm_2= ChatGoogleGenerativeAI(\n",
        "    model=\"gemini-2.0-flash-exp\",\n",
        "    api_key = os.environ[\"GOOGLE_API_KEY\"],\n",
        "    temperature=0,\n",
        "    max_output_tokens=200,\n",
        ")"
      ],
      "metadata": {
        "id": "W1I2t9TqfCKo"
      },
      "execution_count": null,
      "outputs": []
    },
    {
      "cell_type": "code",
      "source": [
        "response_2 = llm_2.invoke(\"Tell me about the impacts of AI in the different major fields of the World\")\n",
        "display(Markdown(response_2.content))"
      ],
      "metadata": {
        "colab": {
          "base_uri": "https://localhost:8080/",
          "height": 250
        },
        "id": "wO1wubExflqW",
        "outputId": "9507686c-650e-4e9e-c5a7-92c76fe3d271"
      },
      "execution_count": null,
      "outputs": [
        {
          "output_type": "display_data",
          "data": {
            "text/plain": [
              "<IPython.core.display.Markdown object>"
            ],
            "text/markdown": "Okay, let's explore the impact of AI across various major fields. It's a rapidly evolving landscape, so this is a snapshot of current trends and potential future impacts:\n\n**1. Healthcare:**\n\n* **Diagnosis & Treatment:**\n    * **Improved Accuracy:** AI algorithms can analyze medical images (X-rays, MRIs, CT scans) with greater speed and accuracy than humans, aiding in early detection of diseases like cancer.\n    * **Personalized Medicine:** AI can analyze patient data (genetics, lifestyle, medical history) to tailor treatment plans, leading to more effective and targeted therapies.\n    * **Drug Discovery:** AI accelerates the process of identifying potential drug candidates and predicting their effectiveness, reducing time and cost.\n    * **Robotic Surgery:** AI-powered robots assist surgeons with complex procedures, enhancing precision and minimizing invasiveness.\n* **Patient Care:**\n    * **Virtual Assistants:** AI-powered chatbots can provide basic medical advice, schedule"
          },
          "metadata": {}
        }
      ]
    },
    {
      "cell_type": "code",
      "source": [
        "llm_3= ChatGoogleGenerativeAI(\n",
        "    model=\"gemini-2.0-flash-exp\",\n",
        "    api_key = os.environ[\"GOOGLE_API_KEY\"],\n",
        "    temperature=0.9,\n",
        "    max_output_tokens=500,\n",
        "    stop_sequences=[\"End\"]\n",
        ")"
      ],
      "metadata": {
        "id": "wyT9ksrSfrQG"
      },
      "execution_count": null,
      "outputs": []
    },
    {
      "cell_type": "code",
      "source": [
        "response_3 = llm_3.invoke(\"Tell me about the impacts of AI in the different major fields of the World\")\n",
        "display(Markdown(response_3.content))"
      ],
      "metadata": {
        "colab": {
          "base_uri": "https://localhost:8080/",
          "height": 581
        },
        "id": "Ufr8Z9fhgOhG",
        "outputId": "08103be5-3f6c-4d1b-af3a-f6e3cb290bd2"
      },
      "execution_count": null,
      "outputs": [
        {
          "output_type": "display_data",
          "data": {
            "text/plain": [
              "<IPython.core.display.Markdown object>"
            ],
            "text/markdown": "Okay, let's dive into the impacts of AI across different major fields. It's a rapidly evolving landscape, but here's a breakdown of key areas and how AI is making its mark:\n\n**1. Healthcare:**\n\n* **Impact:** Revolutionizing diagnostics, treatment, drug discovery, and patient care.\n* **Examples:**\n    * **AI-powered diagnostics:** Analyzing medical images (X-rays, MRIs) with greater accuracy and speed, potentially detecting diseases earlier.\n    * **Personalized medicine:** Tailoring treatment plans based on individual genetic profiles and medical history.\n    * **Drug discovery:** Accelerating the identification and development of new drugs and therapies.\n    * **Robotic surgery:** Assisting surgeons with complex procedures, improving precision and reducing invasiveness.\n    * **Remote patient monitoring:** Using wearables and sensors to track vital signs and detect anomalies, enabling proactive care.\n    * **Chatbots and virtual assistants:** Providing basic medical information, appointment scheduling, and emotional support.\n* **Challenges:** Data privacy concerns, algorithmic bias, regulatory hurdles, and ethical considerations surrounding autonomy.\n\n**2. Education:**\n\n* **Impact:** Personalizing learning experiences, automating tasks, and improving access to education.\n* **Examples:**\n    * **Intelligent tutoring systems:** Providing customized feedback and support based on individual learning styles and progress.\n    * **AI-powered grading and assessment:** Automating the evaluation of assignments and tests, freeing up educators' time.\n    * **Adaptive learning platforms:** Adjusting difficulty levels based on student performance, ensuring optimal learning.\n    * **Virtual classrooms and online learning:** Expanding access to education for remote and underserved communities.\n    * **Language translation tools:** Breaking down language barriers and facilitating international collaboration.\n* **Challenges:** Ensuring equitable access to technology, data privacy concerns, and the potential for dehumanizing the learning experience.\n\n**3. Finance:**\n\n* **Impact:** Automating processes, improving risk management, and personalizing financial services.\n* **Examples:**\n    * **Algorithmic trading:** Executing trades based on complex algorithms, potentially leading to faster and more efficient markets.\n    * **Fraud detection:** Identifying suspicious transactions and preventing financial crimes.\n    * **Credit scoring and loan approval:** Using AI to assess creditworthiness and make lending decisions.\n    * **Personalized financial advice:** Providing customized recommendations for investments, budgeting,"
          },
          "metadata": {}
        }
      ]
    },
    {
      "cell_type": "markdown",
      "source": [
        "# **As you can see above experimenting with the different parameters of Gemini LLM Model and on the same query after changing the parameters of LLm Model it generated different responses**"
      ],
      "metadata": {
        "id": "fsjdO6Efg7jj"
      }
    }
  ]
}
